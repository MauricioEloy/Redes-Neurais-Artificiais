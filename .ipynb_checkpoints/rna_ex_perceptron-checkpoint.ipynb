{
 "cells": [
  {
   "cell_type": "markdown",
   "metadata": {},
   "source": [
    "# <span style=\"color:blue\">Rede Neural - Perceptron</span>\n",
    "\n",
    "\n"
   ]
  },
  {
   "cell_type": "markdown",
   "metadata": {},
   "source": [
    "* <span style=\"color:blue\">Função Sigmoid</span>"
   ]
  },
  {
   "cell_type": "code",
   "execution_count": 1,
   "metadata": {
    "ExecuteTime": {
     "end_time": "2021-02-25T18:49:55.377626Z",
     "start_time": "2021-02-25T18:49:55.276390Z"
    }
   },
   "outputs": [],
   "source": [
    "    import numpy as np\n",
    "\n",
    "    def sigmoid(inX):\n",
    "        return 1.0 / (1 + np.exp(-inX))"
   ]
  },
  {
   "cell_type": "markdown",
   "metadata": {},
   "source": [
    "* <span style=\"color:blue\">Desenhando a função sigmoid:</span>\n"
   ]
  },
  {
   "cell_type": "code",
   "execution_count": 2,
   "metadata": {
    "ExecuteTime": {
     "end_time": "2021-02-25T18:49:57.116981Z",
     "start_time": "2021-02-25T18:49:56.686781Z"
    }
   },
   "outputs": [
    {
     "data": {
      "image/png": "[encoded data removed]",
      "text/plain": [
       "<Figure size 432x288 with 1 Axes>"
      ]
     },
     "metadata": {
      "needs_background": "light"
     },
     "output_type": "display_data"
    }
   ],
   "source": [
    "%matplotlib inline\n",
    "import numpy as np\n",
    "import matplotlib.pyplot as plt\n",
    "import math\n",
    "\n",
    "x = np.arange(-10., 10., 0.2)\n",
    "\n",
    "values = []\n",
    "for item in x:\n",
    "    values.append(sigmoid(item))\n",
    "\n",
    "plt.plot(x, values)\n",
    "plt.show()"
   ]
  },
  {
   "cell_type": "markdown",
   "metadata": {},
   "source": [
    "* <span style=\"color:blue\">Função auxiliar para ler dados:</span>\n"
   ]
  },
  {
   "cell_type": "code",
   "execution_count": 3,
   "metadata": {
    "ExecuteTime": {
     "end_time": "2021-02-25T18:49:59.130792Z",
     "start_time": "2021-02-25T18:49:59.119603Z"
    }
   },
   "outputs": [],
   "source": [
    "def loadDataSet(file):\n",
    "    dataMat = []; labelMat = []\n",
    "    fr = open(file)\n",
    "    for line in fr.readlines():\n",
    "        lineArr = line.strip().split()\n",
    "        # add bias value.\n",
    "        dataMat.append([float(\"1.0\"), float(lineArr[0]), float(lineArr[1])])\n",
    "        labelMat.append(int(lineArr[2]))\n",
    "    return dataMat,labelMat\n"
   ]
  },
  {
   "cell_type": "markdown",
   "metadata": {},
   "source": [
    "* <span style=\"color:blue\">Função de treinamento:</span>\n"
   ]
  },
  {
   "cell_type": "code",
   "execution_count": 4,
   "metadata": {
    "ExecuteTime": {
     "end_time": "2021-02-25T18:50:00.389243Z",
     "start_time": "2021-02-25T18:50:00.376694Z"
    }
   },
   "outputs": [],
   "source": [
    "import numpy as np\n",
    "\n",
    "def gradAscent(dataMatIn, classLabels):\n",
    "    dataMatrix = np.mat(dataMatIn)\n",
    "    labelMat = np.mat(classLabels).transpose()\n",
    "    m,n = np.shape(dataMatrix)\n",
    "    eta = 0.001\n",
    "    maxCycles = 500000\n",
    "    weights = np.ones((n, 1))\n",
    "    for k in range(maxCycles):\n",
    "        h = sigmoid(dataMatrix * weights)\n",
    "        error = (labelMat - h)\n",
    "        sme = np.mean(np.asarray(error)**2)\n",
    "        if (sme < 0.01):\n",
    "            print('Epochs: %d\\n' % (k))\n",
    "            break\n",
    "        weights = weights + (eta * dataMatrix.transpose() * error)\n",
    "    return weights"
   ]
  },
  {
   "cell_type": "markdown",
   "metadata": {},
   "source": [
    "* <span style=\"color:blue\">Modelo treinado:</span>\n"
   ]
  },
  {
   "cell_type": "code",
   "execution_count": 6,
   "metadata": {
    "ExecuteTime": {
     "end_time": "2021-02-25T18:51:35.087162Z",
     "start_time": "2021-02-25T18:51:19.888900Z"
    }
   },
   "outputs": [
    {
     "name": "stderr",
     "output_type": "stream",
     "text": [
      "<ipython-input-1-a6e664553f70>:4: RuntimeWarning: overflow encountered in exp\n",
      "  return 1.0 / (1 + np.exp(-inX))\n"
     ]
    },
    {
     "name": "stdout",
     "output_type": "stream",
     "text": [
      "Epochs: 305267\n",
      "\n",
      "[[-8.36672266e+02]\n",
      " [ 7.89280691e-01]\n",
      " [-1.06509824e+00]]\n"
     ]
    }
   ],
   "source": [
    "dataMatIn, classLabels = loadDataSet('trainingset_banco.txt')\n",
    "weights = gradAscent(dataMatIn, classLabels)\n",
    "print (weights)"
   ]
  },
  {
   "cell_type": "markdown",
   "metadata": {},
   "source": [
    "* <span style=\"color:blue\">Desenhando o modelo treinado:</span>\n"
   ]
  },
  {
   "cell_type": "code",
   "execution_count": 7,
   "metadata": {
    "ExecuteTime": {
     "end_time": "2021-02-25T18:51:39.421596Z",
     "start_time": "2021-02-25T18:51:39.269932Z"
    }
   },
   "outputs": [
    {
     "data": {
      "image/png": "[encoded data removed]",
      "text/plain": [
       "<Figure size 432x288 with 1 Axes>"
      ]
     },
     "metadata": {
      "needs_background": "light"
     },
     "output_type": "display_data"
    },
    {
     "name": "stdout",
     "output_type": "stream",
     "text": [
      "[[0.78928069]] x1 + [[-1.06509824]] x2 + [[-836.67226599]] = 0\n"
     ]
    }
   ],
   "source": [
    "%matplotlib inline\n",
    "import matplotlib.pyplot as plt\n",
    "import numpy as np\n",
    "\n",
    "def plotBoundary(weights):\n",
    "    dataMat, labelMat = loadDataSet('trainingset_banco.txt')\n",
    "    dataArr = np.array(dataMat)\n",
    "    n = np.shape(dataArr)[0]\n",
    "    xcord1 = []; ycord1 = []\n",
    "    xcord2 = []; ycord2 = []\n",
    "    for i in range(n):\n",
    "        if int(labelMat[i]) == 1:\n",
    "            xcord1.append(dataArr[i,1]); ycord1.append(dataArr[i,2])\n",
    "        else:\n",
    "            xcord2.append(dataArr[i,1]); ycord2.append(dataArr[i,2])\n",
    "    fig = plt.figure()\n",
    "    ax = fig.add_subplot(111)\n",
    "    ax.scatter(xcord1, ycord1, s=20, c='red', marker='s')\n",
    "    ax.scatter(xcord2, ycord2, s=20, c='green')\n",
    "    x = np.array(np.arange(100, 3000, 1))\n",
    "    y = np.array((-weights[0] - (weights[1] * x)) / weights[2])[0]\n",
    "    ax.plot(x, y)\n",
    "    plt.xlabel('X1'); plt.ylabel('X2');\n",
    "    plt.show()\n",
    "\n",
    "plotBoundary(weights)\n",
    "print(weights[1],\"x1 +\",weights[2],\"x2 +\",weights[0], \"= 0\")"
   ]
  },
  {
   "cell_type": "markdown",
   "metadata": {},
   "source": [
    "* <span style=\"color:blue\">Testando o Modelo:</span>"
   ]
  },
  {
   "cell_type": "code",
   "execution_count": 8,
   "metadata": {
    "ExecuteTime": {
     "end_time": "2021-02-25T18:51:46.659343Z",
     "start_time": "2021-02-25T18:51:46.645781Z"
    }
   },
   "outputs": [
    {
     "name": "stdout",
     "output_type": "stream",
     "text": [
      "0 erros of 7.\n",
      "Accuracy: 100.00\n"
     ]
    }
   ],
   "source": [
    "import numpy as np\n",
    "\n",
    "def classify(inX, weights):\n",
    "    prob = sigmoid(inX * weights)\n",
    "    if prob > 0.5: return 1.0\n",
    "    else: return 0.0\n",
    "\n",
    "dataMatIn, classLabels = loadDataSet('testset_banco.txt')\n",
    "\n",
    "i = -1; hit = 0\n",
    "for item in dataMatIn:\n",
    "    i += 1\n",
    "    y = classify(item, weights)\n",
    "    if (y == classLabels[i]):\n",
    "        hit += 1\n",
    "\n",
    "items = len(dataMatIn)\n",
    "print('%d erros of %d.' % ((items - hit), items))\n",
    "print('Accuracy: %0.2f' % ((hit * 100) / items))"
   ]
  },
  {
   "cell_type": "code",
   "execution_count": null,
   "metadata": {},
   "outputs": [],
   "source": []
  }
 ],
 "metadata": {
  "kernelspec": {
   "display_name": "Python 3",
   "language": "python",
   "name": "python3"
  },
  "language_info": {
   "codemirror_mode": {
    "name": "ipython",
    "version": 3
   },
   "file_extension": ".py",
   "mimetype": "text/x-python",
   "name": "python",
   "nbconvert_exporter": "python",
   "pygments_lexer": "ipython3",
   "version": "3.8.5"
  },
  "nbTranslate": {
   "displayLangs": [
    "*"
   ],
   "hotkey": "alt-t",
   "langInMainMenu": true,
   "sourceLang": "en",
   "targetLang": "fr",
   "useGoogleTranslate": true
  },
  "toc": {
   "base_numbering": 1,
   "nav_menu": {},
   "number_sections": true,
   "sideBar": true,
   "skip_h1_title": false,
   "title_cell": "Table of Contents",
   "title_sidebar": "Contents",
   "toc_cell": false,
   "toc_position": {},
   "toc_section_display": true,
   "toc_window_display": false
  }
 },
 "nbformat": 4,
 "nbformat_minor": 4
}
